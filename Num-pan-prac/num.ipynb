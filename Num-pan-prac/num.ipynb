{
 "cells": [
  {
   "cell_type": "code",
   "execution_count": 1,
   "metadata": {},
   "outputs": [],
   "source": [
    "import numpy as np"
   ]
  },
  {
   "cell_type": "code",
   "execution_count": 4,
   "metadata": {},
   "outputs": [
    {
     "name": "stdout",
     "output_type": "stream",
     "text": [
      "[[14 12 10 14  7]\n",
      " [ 7 19 10 10  2]\n",
      " [ 8  2 18 16 16]\n",
      " [ 6 17 14 15 16]\n",
      " [ 4 16  6 18 11]]\n"
     ]
    }
   ],
   "source": [
    "#A1\n",
    "arr = np.random.randint(1, 21, size=(5,5))\n",
    "print(arr)"
   ]
  },
  {
   "cell_type": "code",
   "execution_count": 5,
   "metadata": {},
   "outputs": [
    {
     "name": "stdout",
     "output_type": "stream",
     "text": [
      "[[14 12  1 14  7]\n",
      " [ 7 19  1 10  2]\n",
      " [ 8  2  1 16 16]\n",
      " [ 6 17  1 15 16]\n",
      " [ 4 16  1 18 11]]\n"
     ]
    }
   ],
   "source": [
    "arr[:,2] = 1\n",
    "print(arr)"
   ]
  },
  {
   "cell_type": "code",
   "execution_count": 6,
   "metadata": {},
   "outputs": [
    {
     "name": "stdout",
     "output_type": "stream",
     "text": [
      "[[ 7  3  6  6]\n",
      " [ 1 10  5 15]\n",
      " [ 3  3  8  7]\n",
      " [ 5  3 12  4]]\n"
     ]
    }
   ],
   "source": [
    "a1 = np.random.randint(1,17,size=(4,4))\n",
    "print(a1)"
   ]
  },
  {
   "cell_type": "code",
   "execution_count": 7,
   "metadata": {},
   "outputs": [
    {
     "name": "stdout",
     "output_type": "stream",
     "text": [
      "[[ 0  3  6  6]\n",
      " [ 1  0  5 15]\n",
      " [ 3  3  0  7]\n",
      " [ 5  3 12  0]]\n"
     ]
    }
   ],
   "source": [
    "np.fill_diagonal(a1,0)\n",
    "print(a1)"
   ]
  },
  {
   "cell_type": "code",
   "execution_count": 8,
   "metadata": {},
   "outputs": [
    {
     "name": "stdout",
     "output_type": "stream",
     "text": [
      "[[ 1  2  3  4  5  6]\n",
      " [ 7  8  9 10 11 12]\n",
      " [13 14 15 16 17 18]\n",
      " [19 20 21 22 23 24]\n",
      " [25 26 27 28 29 30]\n",
      " [31 32 33 34 35 36]]\n"
     ]
    }
   ],
   "source": [
    "#A2\n",
    "a1 = np.arange(1,37).reshape(6,6)\n",
    "print(a1)"
   ]
  },
  {
   "cell_type": "code",
   "execution_count": 9,
   "metadata": {},
   "outputs": [
    {
     "data": {
      "text/plain": [
       "array([[14, 15, 16],\n",
       "       [20, 21, 22],\n",
       "       [26, 27, 28]])"
      ]
     },
     "execution_count": 9,
     "metadata": {},
     "output_type": "execute_result"
    }
   ],
   "source": [
    "a1[2:5,1:4]"
   ]
  },
  {
   "cell_type": "code",
   "execution_count": 11,
   "metadata": {},
   "outputs": [
    {
     "name": "stdout",
     "output_type": "stream",
     "text": [
      "Border elements:\n",
      "[ 1  2  3  4  5  6 31 32 33 34 35 36  7 13 19 25 12 18 24 30]\n"
     ]
    }
   ],
   "source": [
    "border_elements = np.concatenate((a1[0, :], a1[-1, :], a1[1:-1, 0], a1[1:-1, -1]))\n",
    "print(\"Border elements:\")\n",
    "print(border_elements)"
   ]
  },
  {
   "cell_type": "code",
   "execution_count": null,
   "metadata": {},
   "outputs": [],
   "source": []
  }
 ],
 "metadata": {
  "kernelspec": {
   "display_name": "Python 3",
   "language": "python",
   "name": "python3"
  },
  "language_info": {
   "codemirror_mode": {
    "name": "ipython",
    "version": 3
   },
   "file_extension": ".py",
   "mimetype": "text/x-python",
   "name": "python",
   "nbconvert_exporter": "python",
   "pygments_lexer": "ipython3",
   "version": "3.12.1"
  }
 },
 "nbformat": 4,
 "nbformat_minor": 2
}
