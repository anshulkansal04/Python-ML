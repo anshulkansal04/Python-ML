{
  "cells": [
    {
      "cell_type": "markdown",
      "metadata": {
        "id": "l_Pbh84S9zzH"
      },
      "source": [
        "# **Complete Seaborn Tutorial**\n",
        "Seaborn is a Python data visualization library based on matplotlib. It provides a high-level interface for drawing attractive and informative statistical graphics."
      ]
    },
    {
      "cell_type": "code",
      "execution_count": null,
      "metadata": {
        "id": "DbIZG3ar9vic"
      },
      "outputs": [],
      "source": [
        "import seaborn as sns\n",
        "sns.set_style('darkgrid')\n",
        "import matplotlib.pyplot as plt\n",
        "plt.style.use('dark_background')\n",
        "%matplotlib inline"
      ]
    },
    {
      "cell_type": "code",
      "execution_count": null,
      "metadata": {
        "id": "9b36xT1S96R-"
      },
      "outputs": [],
      "source": [
        "import numpy as np\n",
        "import pandas as pd\n",
        "import matplotlib.pyplot as plt"
      ]
    },
    {
      "cell_type": "code",
      "execution_count": null,
      "metadata": {
        "colab": {
          "base_uri": "https://localhost:8080/",
          "height": 198
        },
        "id": "8RHWPgRp-H-R",
        "outputId": "2ecd0185-db16-4872-a5b5-f0bb870a0146"
      },
      "outputs": [],
      "source": [
        "roll_no = [1,2,3,4,5,6,7,8,9,10,11,12,13,14,15]\n",
        "marks = [23,45,67,89,56,34,21,45,67,32,67,76,33,21,45]\n",
        "sample_df = pd.DataFrame({\"Rollno\": roll_no, \"Marks\":marks})\n",
        "sample_df.head()"
      ]
    },
    {
      "cell_type": "markdown",
      "metadata": {
        "id": "N4gWkCYY3MvU"
      },
      "source": [
        "## **Line Plot**"
      ]
    },
    {
      "cell_type": "code",
      "execution_count": null,
      "metadata": {
        "colab": {
          "base_uri": "https://localhost:8080/",
          "height": 312
        },
        "id": "siY6qIQ1xyYO",
        "outputId": "b295b7a9-8298-49e8-8a40-cc1f6e35203f"
      },
      "outputs": [],
      "source": [
        "sns.lineplot(x= 'Rollno', y= 'Marks', data= sample_df)\n",
        "plt.title('Student Marks')"
      ]
    },
    {
      "cell_type": "code",
      "execution_count": null,
      "metadata": {
        "colab": {
          "base_uri": "https://localhost:8080/",
          "height": 198
        },
        "id": "Er3dl24PpCk_",
        "outputId": "ef612279-a6f6-4536-bd73-383802586053"
      },
      "outputs": [],
      "source": [
        "seaborn_df = sns.load_dataset('titanic')\n",
        "# loading the dataset from seaborn library\n",
        "seaborn_df.head()"
      ]
    },
    {
      "cell_type": "code",
      "execution_count": null,
      "metadata": {
        "colab": {
          "base_uri": "https://localhost:8080/",
          "height": 414
        },
        "id": "4JO5n6LdsZUs",
        "outputId": "5eafefb6-ebf5-486c-e29c-241b4f6ba7b8"
      },
      "outputs": [],
      "source": [
        "df = pd.read_csv('/content/hr_data.csv')\n",
        "df.head()"
      ]
    },
    {
      "cell_type": "code",
      "execution_count": null,
      "metadata": {
        "id": "v6Rl4Sn8uJ7f"
      },
      "outputs": [],
      "source": [
        "sns.lineplot(x = 'number_project', y = 'average_montly_hours', data = df)"
      ]
    },
    {
      "cell_type": "code",
      "execution_count": null,
      "metadata": {
        "id": "xX-J_tM-6Iah"
      },
      "outputs": [],
      "source": [
        "sns.lineplot(x = 'promotion_last_5years', y = 'left', data = df)"
      ]
    },
    {
      "cell_type": "code",
      "execution_count": null,
      "metadata": {
        "id": "ruDiZvG76guR"
      },
      "outputs": [],
      "source": [
        "plt.figure(figsize=(12,6))\n",
        "# setting the figure size\n",
        "sns.lineplot(x = 'department', y = 'left', data = df)"
      ]
    },
    {
      "cell_type": "code",
      "execution_count": null,
      "metadata": {
        "id": "tcXTshNT66bD"
      },
      "outputs": [],
      "source": [
        "plt.figure(figsize= (12,6))\n",
        "sns.lineplot(x = 'number_project', y = 'average_montly_hours', data = df, \n",
        "             hue = 'left',\n",
        "             style = 'department',\n",
        "             legend ='full',\n",
        "             palette = 'flare')"
      ]
    },
    {
      "cell_type": "markdown",
      "metadata": {},
      "source": [
        "The [`lineplot`](command:_github.copilot.openSymbolFromReferences?%5B%22lineplot%22%2C%5B%7B%22uri%22%3A%7B%22%24mid%22%3A1%2C%22fsPath%22%3A%22d%3A%5C%5CJIIT%20College%5C%5CPython%20%26%20ML%5C%5CSeaborn%5C%5Cseaborn.ipynb%22%2C%22_sep%22%3A1%2C%22external%22%3A%22vscode-notebook-cell%3A%2Fd%253A%2FJIIT%2520College%2FPython%2520%2526%2520ML%2FSeaborn%2Fseaborn.ipynb%23X16sZmlsZQ%253D%253D%22%2C%22path%22%3A%22%2Fd%3A%2FJIIT%20College%2FPython%20%26%20ML%2FSeaborn%2Fseaborn.ipynb%22%2C%22scheme%22%3A%22vscode-notebook-cell%22%2C%22fragment%22%3A%22X16sZmlsZQ%3D%3D%22%7D%2C%22pos%22%3A%7B%22line%22%3A1%2C%22character%22%3A4%7D%7D%5D%5D \"Go to definition\") function in Seaborn is used to create line plots, which are useful for visualizing trends over time or other continuous variables. Here are some common parameters used in `seaborn.lineplot`:\n",
        "\n",
        "### Common Parameters\n",
        "\n",
        "1. **`x`**:  Name of the variable in `data` or vector data, for the x-axis.\n",
        "2. **`y`**:  Name of the variable in `data` or vector data, for the y-axis.\n",
        "3. **`hue`**:  Name of the variable in `data` or vector data, for grouping data points with different colors.\n",
        "4. **`size`**:  Name of the variable in `data` or vector data, for grouping data points with different sizes.\n",
        "5. **`style`**:  Name of the variable in `data` or vector data, for grouping data points with different line styles.\n",
        "6. **`data`**:  DataFrame, array, or list of arrays, where the variables are stored.\n",
        "7. **`palette`**:  Colors to use for the different levels of the `hue` variable.\n",
        "8. **`hue_order`**:  Order to plot the levels of the `hue` variable.\n",
        "9. **`markers`**:  Markers to use for the different levels of the `style` variable.\n",
        "10. **`dashes`**:  Line dashes to use for the different levels of the `style` variable.\n",
        "11. **`legend`**:  How to draw the legend. Options are `brief`, `full`, or `False`.\n",
        "12. **`ax`**:  Matplotlib Axes object to draw the plot onto."
      ]
    },
    {
      "cell_type": "markdown",
      "metadata": {},
      "source": [
        "\n",
        "\n",
        "### Summary\n",
        "- **`x` and `y`**: Define the data for the x and y axes.\n",
        "- **`hue`**: Adds color grouping.\n",
        "- **`size` and `style`**: Add size and style grouping.\n",
        "- **`data`**: The dataset containing the variables.\n",
        "- **`palette`, `hue_order`, `markers`, `dashes`**: Customize the appearance.\n",
        "- **`legend`**: Controls the legend display.\n",
        "- **`ax`**: Specifies the axes to plot on.\n",
        "\n",
        "These parameters allow for extensive customization of line plots to suit various data visualization needs."
      ]
    },
    {
      "cell_type": "markdown",
      "metadata": {
        "id": "k7qt72N55lt0"
      },
      "source": [
        "## **Dist Plot**\n",
        "Plots with Bar Graph and Kernel Density Estimate "
      ]
    },
    {
      "cell_type": "code",
      "execution_count": null,
      "metadata": {
        "id": "UeqYyayDyAaB"
      },
      "outputs": [],
      "source": [
        "sns.distplot(df['time_spend_company'])"
      ]
    },
    {
      "cell_type": "code",
      "execution_count": null,
      "metadata": {
        "id": "2SiL27nV7SkS"
      },
      "outputs": [],
      "source": [
        "sns.distplot(df['left'])"
      ]
    },
    {
      "cell_type": "code",
      "execution_count": null,
      "metadata": {
        "id": "PMxxw_8I7z1l"
      },
      "outputs": [],
      "source": [
        "sns.distplot(df['average_montly_hours'])"
      ]
    },
    {
      "cell_type": "code",
      "execution_count": null,
      "metadata": {
        "id": "BQNo5YI-8G3V"
      },
      "outputs": [],
      "source": [
        "#Histograms represent the data distribution by\n",
        "#forming bins along the range of the data and then \n",
        "#drawing bars to show the number of observations \n",
        "#that fall in each bin.\n",
        "\n",
        "#simply the bin is the range of each cell along the x-axis"
      ]
    },
    {
      "cell_type": "code",
      "execution_count": null,
      "metadata": {
        "id": "H7MGR4Yk8QME"
      },
      "outputs": [],
      "source": [
        "df.describe()"
      ]
    },
    {
      "cell_type": "code",
      "execution_count": null,
      "metadata": {
        "id": "H_2fZIz9FSZQ"
      },
      "outputs": [],
      "source": [
        "bins = [2,3,4,5,6,7,8,9,10]\n",
        "sns.distplot(df['time_spend_company'], bins = bins)\n",
        "plt.xticks(bins)"
      ]
    },
    {
      "cell_type": "code",
      "execution_count": null,
      "metadata": {
        "id": "eVOJxX-3Fox5"
      },
      "outputs": [],
      "source": [
        "sns.distplot(df['time_spend_company'], bins = bins ,\n",
        "             rug = True,\n",
        "             color='green',\n",
        "             \n",
        "            #  hist_kws={'color':'red' , 'edgecolor':'blue' , 'linewidth':3 , 'alpha': 0.5},\n",
        "            # kde_kws={'color':'orange' , 'linewidth':3}\n",
        "             )\n",
        "plt.xticks(bins)"
      ]
    },
    {
      "cell_type": "markdown",
      "metadata": {},
      "source": [
        "The [`distplot`](command:_github.copilot.openSymbolFromReferences?%5B%22distplot%22%2C%5B%7B%22uri%22%3A%7B%22%24mid%22%3A1%2C%22fsPath%22%3A%22d%3A%5C%5CJIIT%20College%5C%5CPython%20%26%20ML%5C%5CSeaborn%5C%5Cseaborn.ipynb%22%2C%22_sep%22%3A1%2C%22external%22%3A%22vscode-notebook-cell%3A%2Fd%253A%2FJIIT%2520College%2FPython%2520%2526%2520ML%2FSeaborn%2Fseaborn.ipynb%23X30sZmlsZQ%253D%253D%22%2C%22path%22%3A%22%2Fd%3A%2FJIIT%20College%2FPython%20%26%20ML%2FSeaborn%2Fseaborn.ipynb%22%2C%22scheme%22%3A%22vscode-notebook-cell%22%2C%22fragment%22%3A%22X30sZmlsZQ%3D%3D%22%7D%2C%22pos%22%3A%7B%22line%22%3A0%2C%22character%22%3A4%7D%7D%5D%5D \"Go to definition\") function in Seaborn is used to plot univariate distributions, combining a histogram with a kernel density estimate (KDE) or a rug plot. Note that [`distplot`](command:_github.copilot.openSymbolFromReferences?%5B%22distplot%22%2C%5B%7B%22uri%22%3A%7B%22%24mid%22%3A1%2C%22fsPath%22%3A%22d%3A%5C%5CJIIT%20College%5C%5CPython%20%26%20ML%5C%5CSeaborn%5C%5Cseaborn.ipynb%22%2C%22_sep%22%3A1%2C%22external%22%3A%22vscode-notebook-cell%3A%2Fd%253A%2FJIIT%2520College%2FPython%2520%2526%2520ML%2FSeaborn%2Fseaborn.ipynb%23X30sZmlsZQ%253D%253D%22%2C%22path%22%3A%22%2Fd%3A%2FJIIT%20College%2FPython%20%26%20ML%2FSeaborn%2Fseaborn.ipynb%22%2C%22scheme%22%3A%22vscode-notebook-cell%22%2C%22fragment%22%3A%22X30sZmlsZQ%3D%3D%22%7D%2C%22pos%22%3A%7B%22line%22%3A0%2C%22character%22%3A4%7D%7D%5D%5D \"Go to definition\") is deprecated in favor of `displot` and `histplot` in newer versions of Seaborn. However, here are the common parameters used in [`distplot`](command:_github.copilot.openSymbolFromReferences?%5B%22distplot%22%2C%5B%7B%22uri%22%3A%7B%22%24mid%22%3A1%2C%22fsPath%22%3A%22d%3A%5C%5CJIIT%20College%5C%5CPython%20%26%20ML%5C%5CSeaborn%5C%5Cseaborn.ipynb%22%2C%22_sep%22%3A1%2C%22external%22%3A%22vscode-notebook-cell%3A%2Fd%253A%2FJIIT%2520College%2FPython%2520%2526%2520ML%2FSeaborn%2Fseaborn.ipynb%23X30sZmlsZQ%253D%253D%22%2C%22path%22%3A%22%2Fd%3A%2FJIIT%20College%2FPython%20%26%20ML%2FSeaborn%2Fseaborn.ipynb%22%2C%22scheme%22%3A%22vscode-notebook-cell%22%2C%22fragment%22%3A%22X30sZmlsZQ%3D%3D%22%7D%2C%22pos%22%3A%7B%22line%22%3A0%2C%22character%22%3A4%7D%7D%5D%5D \"Go to definition\"):\n",
        "\n",
        "### Common Parameters\n",
        "\n",
        "1. **`a`**: (Required) Array-like, the data to plot.\n",
        "2. **`bins`**:  Number of bins for the histogram or a specific binning strategy.\n",
        "3. **`hist`**:  Boolean, whether to plot a histogram (default is `True`).\n",
        "4. **`kde`**:  Boolean, whether to plot a kernel density estimate (default is `True`).\n",
        "5. **`rug`**:  Boolean, whether to draw a rug plot (default is `False`).\n",
        "6. **`fit`**:  An object with a `fit` method, used to fit and plot a parametric distribution.\n",
        "7. **`hist_kws`**:  Dictionary of keyword arguments for `plt.hist`.\n",
        "8. **`kde_kws`**:  Dictionary of keyword arguments for `sns.kdeplot`.\n",
        "9. **`rug_kws`**:  Dictionary of keyword arguments for `sns.rugplot`.\n",
        "10. **`color`**:  Color for all elements.\n",
        "11. **`vertical`**:  Boolean, if `True` the plot is oriented vertically (default is `False`).\n",
        "12. **`norm_hist`**:  Boolean, if `True` the histogram is normalized to form a probability density (default is `False`).\n",
        "13. **`ax`**:  Matplotlib Axes object to draw the plot onto.\n"
      ]
    },
    {
      "cell_type": "markdown",
      "metadata": {},
      "source": [
        "\n",
        "\n",
        "### Summary\n",
        "- **`a`**: Data to plot.\n",
        "- **`bins`**: Number of bins for the histogram.\n",
        "- **`hist`, `kde`, `rug`**: Booleans to include histogram, KDE, and rug plot.\n",
        "- **`fit`**: Fit a parametric distribution.\n",
        "- **`hist_kws`, `kde_kws`, `rug_kws`**: Customization for histogram, KDE, and rug plot.\n",
        "- **`color`**: Color for all elements.\n",
        "- **`vertical`**: Orientation of the plot.\n",
        "- **`norm_hist`**: Normalize the histogram.\n",
        "- **`ax`**: Axes to plot on.\n",
        "\n",
        "These parameters allow for extensive customization of distribution plots to suit various data visualization needs."
      ]
    },
    {
      "cell_type": "markdown",
      "metadata": {
        "id": "7ScrHy2ulrNb"
      },
      "source": [
        "## **Scatter Plot**"
      ]
    },
    {
      "cell_type": "code",
      "execution_count": null,
      "metadata": {
        "id": "i5UOc6FrnYkz"
      },
      "outputs": [],
      "source": [
        "titanic_df = sns.load_dataset('titanic')\n",
        "titanic_df.head()"
      ]
    },
    {
      "cell_type": "code",
      "execution_count": null,
      "metadata": {
        "id": "QkwlllxmH6xx"
      },
      "outputs": [],
      "source": [
        "sns.scatterplot(x = 'age' , y = 'fare',\n",
        "                data = titanic_df)"
      ]
    },
    {
      "cell_type": "code",
      "execution_count": null,
      "metadata": {
        "id": "ofGxVMO5oLAT"
      },
      "outputs": [],
      "source": [
        "sns.scatterplot(x = 'age' , y = 'fare',\n",
        "                data = titanic_df , hue = 'alive')"
      ]
    },
    {
      "cell_type": "code",
      "execution_count": null,
      "metadata": {
        "id": "Xr3qj1qwmQoh"
      },
      "outputs": [],
      "source": [
        "plt.figure(figsize = (12,6))\n",
        "sns.scatterplot(x = 'age' , y = 'fare',\n",
        "                data = titanic_df , hue = 'alive',\n",
        "                style = 'class')\n",
        "plt.title('Titanic Data Analysis')"
      ]
    },
    {
      "cell_type": "code",
      "execution_count": null,
      "metadata": {
        "id": "fbt0SlFEp8W8"
      },
      "outputs": [],
      "source": [
        "plt.figure(figsize = (12,6))\n",
        "sns.scatterplot(x = 'age' , y = 'fare',\n",
        "                data = titanic_df , hue = 'alive',\n",
        "                style = 'class',\n",
        "                palette = 'inferno')\n",
        "plt.title('Titanic Data Analysis')"
      ]
    },
    {
      "cell_type": "code",
      "execution_count": null,
      "metadata": {
        "id": "6iebcQ-bqmMs"
      },
      "outputs": [],
      "source": [
        "plt.figure(figsize = (12,6))\n",
        "sns.scatterplot(x = 'age' , y = 'fare',\n",
        "                data = titanic_df , hue = 'alive',\n",
        "                style = 'class',\n",
        "                palette = 'gist_rainbow', alpha = 0.5)\n",
        "plt.title('Titanic Data Analysis')"
      ]
    },
    {
      "cell_type": "markdown",
      "metadata": {},
      "source": [
        "The [`sns.scatterplot`](command:_github.copilot.openSymbolFromReferences?%5B%22sns.scatterplot%22%2C%5B%7B%22uri%22%3A%7B%22%24mid%22%3A1%2C%22fsPath%22%3A%22d%3A%5C%5CJIIT%20College%5C%5CPython%20%26%20ML%5C%5CSeaborn%5C%5CSeaborn.ipynb%22%2C%22_sep%22%3A1%2C%22external%22%3A%22vscode-notebook-cell%3A%2Fd%253A%2FJIIT%2520College%2FPython%2520%2526%2520ML%2FSeaborn%2FSeaborn.ipynb%23X42sZmlsZQ%253D%253D%22%2C%22path%22%3A%22%2Fd%3A%2FJIIT%20College%2FPython%20%26%20ML%2FSeaborn%2FSeaborn.ipynb%22%2C%22scheme%22%3A%22vscode-notebook-cell%22%2C%22fragment%22%3A%22X42sZmlsZQ%3D%3D%22%7D%2C%22pos%22%3A%7B%22line%22%3A1%2C%22character%22%3A0%7D%7D%5D%5D \"Go to definition\") function from the Seaborn library has several parameters. Here is a list of the most commonly used ones:\n",
        "\n",
        "- [`x`](command:_github.copilot.openSymbolFromReferences?%5B%22x%22%2C%5B%7B%22uri%22%3A%7B%22%24mid%22%3A1%2C%22fsPath%22%3A%22d%3A%5C%5CJIIT%20College%5C%5CPython%20%26%20ML%5C%5CSeaborn%5C%5CSeaborn.ipynb%22%2C%22_sep%22%3A1%2C%22external%22%3A%22vscode-notebook-cell%3A%2Fd%253A%2FJIIT%2520College%2FPython%2520%2526%2520ML%2FSeaborn%2FSeaborn.ipynb%23X42sZmlsZQ%253D%253D%22%2C%22path%22%3A%22%2Fd%3A%2FJIIT%20College%2FPython%20%26%20ML%2FSeaborn%2FSeaborn.ipynb%22%2C%22scheme%22%3A%22vscode-notebook-cell%22%2C%22fragment%22%3A%22X42sZmlsZQ%3D%3D%22%7D%2C%22pos%22%3A%7B%22line%22%3A1%2C%22character%22%3A16%7D%7D%5D%5D \"Go to definition\"): Name of the variable in [`data`](command:_github.copilot.openSymbolFromReferences?%5B%22data%22%2C%5B%7B%22uri%22%3A%7B%22%24mid%22%3A1%2C%22fsPath%22%3A%22d%3A%5C%5CJIIT%20College%5C%5CPython%20%26%20ML%5C%5CSeaborn%5C%5CSeaborn.ipynb%22%2C%22_sep%22%3A1%2C%22external%22%3A%22vscode-notebook-cell%3A%2Fd%253A%2FJIIT%2520College%2FPython%2520%2526%2520ML%2FSeaborn%2FSeaborn.ipynb%23X42sZmlsZQ%253D%253D%22%2C%22path%22%3A%22%2Fd%3A%2FJIIT%20College%2FPython%20%26%20ML%2FSeaborn%2FSeaborn.ipynb%22%2C%22scheme%22%3A%22vscode-notebook-cell%22%2C%22fragment%22%3A%22X42sZmlsZQ%3D%3D%22%7D%2C%22pos%22%3A%7B%22line%22%3A2%2C%22character%22%3A16%7D%7D%5D%5D \"Go to definition\") for the x-axis.\n",
        "- [`y`](command:_github.copilot.openSymbolFromReferences?%5B%22y%22%2C%5B%7B%22uri%22%3A%7B%22%24mid%22%3A1%2C%22fsPath%22%3A%22d%3A%5C%5CJIIT%20College%5C%5CPython%20%26%20ML%5C%5CSeaborn%5C%5CSeaborn.ipynb%22%2C%22_sep%22%3A1%2C%22external%22%3A%22vscode-notebook-cell%3A%2Fd%253A%2FJIIT%2520College%2FPython%2520%2526%2520ML%2FSeaborn%2FSeaborn.ipynb%23X42sZmlsZQ%253D%253D%22%2C%22path%22%3A%22%2Fd%3A%2FJIIT%20College%2FPython%20%26%20ML%2FSeaborn%2FSeaborn.ipynb%22%2C%22scheme%22%3A%22vscode-notebook-cell%22%2C%22fragment%22%3A%22X42sZmlsZQ%3D%3D%22%7D%2C%22pos%22%3A%7B%22line%22%3A1%2C%22character%22%3A28%7D%7D%5D%5D \"Go to definition\"): Name of the variable in [`data`](command:_github.copilot.openSymbolFromReferences?%5B%22data%22%2C%5B%7B%22uri%22%3A%7B%22%24mid%22%3A1%2C%22fsPath%22%3A%22d%3A%5C%5CJIIT%20College%5C%5CPython%20%26%20ML%5C%5CSeaborn%5C%5CSeaborn.ipynb%22%2C%22_sep%22%3A1%2C%22external%22%3A%22vscode-notebook-cell%3A%2Fd%253A%2FJIIT%2520College%2FPython%2520%2526%2520ML%2FSeaborn%2FSeaborn.ipynb%23X42sZmlsZQ%253D%253D%22%2C%22path%22%3A%22%2Fd%3A%2FJIIT%20College%2FPython%20%26%20ML%2FSeaborn%2FSeaborn.ipynb%22%2C%22scheme%22%3A%22vscode-notebook-cell%22%2C%22fragment%22%3A%22X42sZmlsZQ%3D%3D%22%7D%2C%22pos%22%3A%7B%22line%22%3A2%2C%22character%22%3A16%7D%7D%5D%5D \"Go to definition\") for the y-axis.\n",
        "- [`hue`](command:_github.copilot.openSymbolFromReferences?%5B%22hue%22%2C%5B%7B%22uri%22%3A%7B%22%24mid%22%3A1%2C%22fsPath%22%3A%22d%3A%5C%5CJIIT%20College%5C%5CPython%20%26%20ML%5C%5CSeaborn%5C%5CSeaborn.ipynb%22%2C%22_sep%22%3A1%2C%22external%22%3A%22vscode-notebook-cell%3A%2Fd%253A%2FJIIT%2520College%2FPython%2520%2526%2520ML%2FSeaborn%2FSeaborn.ipynb%23X42sZmlsZQ%253D%253D%22%2C%22path%22%3A%22%2Fd%3A%2FJIIT%20College%2FPython%20%26%20ML%2FSeaborn%2FSeaborn.ipynb%22%2C%22scheme%22%3A%22vscode-notebook-cell%22%2C%22fragment%22%3A%22X42sZmlsZQ%3D%3D%22%7D%2C%22pos%22%3A%7B%22line%22%3A2%2C%22character%22%3A36%7D%7D%5D%5D \"Go to definition\"): Name of the variable in [`data`](command:_github.copilot.openSymbolFromReferences?%5B%22data%22%2C%5B%7B%22uri%22%3A%7B%22%24mid%22%3A1%2C%22fsPath%22%3A%22d%3A%5C%5CJIIT%20College%5C%5CPython%20%26%20ML%5C%5CSeaborn%5C%5CSeaborn.ipynb%22%2C%22_sep%22%3A1%2C%22external%22%3A%22vscode-notebook-cell%3A%2Fd%253A%2FJIIT%2520College%2FPython%2520%2526%2520ML%2FSeaborn%2FSeaborn.ipynb%23X42sZmlsZQ%253D%253D%22%2C%22path%22%3A%22%2Fd%3A%2FJIIT%20College%2FPython%20%26%20ML%2FSeaborn%2FSeaborn.ipynb%22%2C%22scheme%22%3A%22vscode-notebook-cell%22%2C%22fragment%22%3A%22X42sZmlsZQ%3D%3D%22%7D%2C%22pos%22%3A%7B%22line%22%3A2%2C%22character%22%3A16%7D%7D%5D%5D \"Go to definition\") to map plot aspects to different colors.\n",
        "- `size`: Name of the variable in [`data`](command:_github.copilot.openSymbolFromReferences?%5B%22data%22%2C%5B%7B%22uri%22%3A%7B%22%24mid%22%3A1%2C%22fsPath%22%3A%22d%3A%5C%5CJIIT%20College%5C%5CPython%20%26%20ML%5C%5CSeaborn%5C%5CSeaborn.ipynb%22%2C%22_sep%22%3A1%2C%22external%22%3A%22vscode-notebook-cell%3A%2Fd%253A%2FJIIT%2520College%2FPython%2520%2526%2520ML%2FSeaborn%2FSeaborn.ipynb%23X42sZmlsZQ%253D%253D%22%2C%22path%22%3A%22%2Fd%3A%2FJIIT%20College%2FPython%20%26%20ML%2FSeaborn%2FSeaborn.ipynb%22%2C%22scheme%22%3A%22vscode-notebook-cell%22%2C%22fragment%22%3A%22X42sZmlsZQ%3D%3D%22%7D%2C%22pos%22%3A%7B%22line%22%3A2%2C%22character%22%3A16%7D%7D%5D%5D \"Go to definition\") to map plot aspects to different sizes.\n",
        "- [`style`](command:_github.copilot.openSymbolFromReferences?%5B%22style%22%2C%5B%7B%22uri%22%3A%7B%22%24mid%22%3A1%2C%22fsPath%22%3A%22d%3A%5C%5CJIIT%20College%5C%5CPython%20%26%20ML%5C%5CSeaborn%5C%5CSeaborn.ipynb%22%2C%22_sep%22%3A1%2C%22external%22%3A%22vscode-notebook-cell%3A%2Fd%253A%2FJIIT%2520College%2FPython%2520%2526%2520ML%2FSeaborn%2FSeaborn.ipynb%23X42sZmlsZQ%253D%253D%22%2C%22path%22%3A%22%2Fd%3A%2FJIIT%20College%2FPython%20%26%20ML%2FSeaborn%2FSeaborn.ipynb%22%2C%22scheme%22%3A%22vscode-notebook-cell%22%2C%22fragment%22%3A%22X42sZmlsZQ%3D%3D%22%7D%2C%22pos%22%3A%7B%22line%22%3A3%2C%22character%22%3A16%7D%7D%5D%5D \"Go to definition\"): Name of the variable in [`data`](command:_github.copilot.openSymbolFromReferences?%5B%22data%22%2C%5B%7B%22uri%22%3A%7B%22%24mid%22%3A1%2C%22fsPath%22%3A%22d%3A%5C%5CJIIT%20College%5C%5CPython%20%26%20ML%5C%5CSeaborn%5C%5CSeaborn.ipynb%22%2C%22_sep%22%3A1%2C%22external%22%3A%22vscode-notebook-cell%3A%2Fd%253A%2FJIIT%2520College%2FPython%2520%2526%2520ML%2FSeaborn%2FSeaborn.ipynb%23X42sZmlsZQ%253D%253D%22%2C%22path%22%3A%22%2Fd%3A%2FJIIT%20College%2FPython%20%26%20ML%2FSeaborn%2FSeaborn.ipynb%22%2C%22scheme%22%3A%22vscode-notebook-cell%22%2C%22fragment%22%3A%22X42sZmlsZQ%3D%3D%22%7D%2C%22pos%22%3A%7B%22line%22%3A2%2C%22character%22%3A16%7D%7D%5D%5D \"Go to definition\") to map plot aspects to different markers.\n",
        "- [`data`](command:_github.copilot.openSymbolFromReferences?%5B%22data%22%2C%5B%7B%22uri%22%3A%7B%22%24mid%22%3A1%2C%22fsPath%22%3A%22d%3A%5C%5CJIIT%20College%5C%5CPython%20%26%20ML%5C%5CSeaborn%5C%5CSeaborn.ipynb%22%2C%22_sep%22%3A1%2C%22external%22%3A%22vscode-notebook-cell%3A%2Fd%253A%2FJIIT%2520College%2FPython%2520%2526%2520ML%2FSeaborn%2FSeaborn.ipynb%23X42sZmlsZQ%253D%253D%22%2C%22path%22%3A%22%2Fd%3A%2FJIIT%20College%2FPython%20%26%20ML%2FSeaborn%2FSeaborn.ipynb%22%2C%22scheme%22%3A%22vscode-notebook-cell%22%2C%22fragment%22%3A%22X42sZmlsZQ%3D%3D%22%7D%2C%22pos%22%3A%7B%22line%22%3A2%2C%22character%22%3A16%7D%7D%5D%5D \"Go to definition\"): DataFrame containing the data.\n",
        "- [`palette`](command:_github.copilot.openSymbolFromReferences?%5B%22palette%22%2C%5B%7B%22uri%22%3A%7B%22%24mid%22%3A1%2C%22fsPath%22%3A%22d%3A%5C%5CJIIT%20College%5C%5CPython%20%26%20ML%5C%5CSeaborn%5C%5CSeaborn.ipynb%22%2C%22_sep%22%3A1%2C%22external%22%3A%22vscode-notebook-cell%3A%2Fd%253A%2FJIIT%2520College%2FPython%2520%2526%2520ML%2FSeaborn%2FSeaborn.ipynb%23X42sZmlsZQ%253D%253D%22%2C%22path%22%3A%22%2Fd%3A%2FJIIT%20College%2FPython%20%26%20ML%2FSeaborn%2FSeaborn.ipynb%22%2C%22scheme%22%3A%22vscode-notebook-cell%22%2C%22fragment%22%3A%22X42sZmlsZQ%3D%3D%22%7D%2C%22pos%22%3A%7B%22line%22%3A4%2C%22character%22%3A16%7D%7D%5D%5D \"Go to definition\"): Colors to use for the different levels of the [`hue`](command:_github.copilot.openSymbolFromReferences?%5B%22hue%22%2C%5B%7B%22uri%22%3A%7B%22%24mid%22%3A1%2C%22fsPath%22%3A%22d%3A%5C%5CJIIT%20College%5C%5CPython%20%26%20ML%5C%5CSeaborn%5C%5CSeaborn.ipynb%22%2C%22_sep%22%3A1%2C%22external%22%3A%22vscode-notebook-cell%3A%2Fd%253A%2FJIIT%2520College%2FPython%2520%2526%2520ML%2FSeaborn%2FSeaborn.ipynb%23X42sZmlsZQ%253D%253D%22%2C%22path%22%3A%22%2Fd%3A%2FJIIT%20College%2FPython%20%26%20ML%2FSeaborn%2FSeaborn.ipynb%22%2C%22scheme%22%3A%22vscode-notebook-cell%22%2C%22fragment%22%3A%22X42sZmlsZQ%3D%3D%22%7D%2C%22pos%22%3A%7B%22line%22%3A2%2C%22character%22%3A36%7D%7D%5D%5D \"Go to definition\") variable.\n",
        "- `hue_order`: Order to plot the levels of the [`hue`](command:_github.copilot.openSymbolFromReferences?%5B%22hue%22%2C%5B%7B%22uri%22%3A%7B%22%24mid%22%3A1%2C%22fsPath%22%3A%22d%3A%5C%5CJIIT%20College%5C%5CPython%20%26%20ML%5C%5CSeaborn%5C%5CSeaborn.ipynb%22%2C%22_sep%22%3A1%2C%22external%22%3A%22vscode-notebook-cell%3A%2Fd%253A%2FJIIT%2520College%2FPython%2520%2526%2520ML%2FSeaborn%2FSeaborn.ipynb%23X42sZmlsZQ%253D%253D%22%2C%22path%22%3A%22%2Fd%3A%2FJIIT%20College%2FPython%20%26%20ML%2FSeaborn%2FSeaborn.ipynb%22%2C%22scheme%22%3A%22vscode-notebook-cell%22%2C%22fragment%22%3A%22X42sZmlsZQ%3D%3D%22%7D%2C%22pos%22%3A%7B%22line%22%3A2%2C%22character%22%3A36%7D%7D%5D%5D \"Go to definition\") variable.\n",
        "- `hue_norm`: Normalization in data units for colormap applied to the [`hue`](command:_github.copilot.openSymbolFromReferences?%5B%22hue%22%2C%5B%7B%22uri%22%3A%7B%22%24mid%22%3A1%2C%22fsPath%22%3A%22d%3A%5C%5CJIIT%20College%5C%5CPython%20%26%20ML%5C%5CSeaborn%5C%5CSeaborn.ipynb%22%2C%22_sep%22%3A1%2C%22external%22%3A%22vscode-notebook-cell%3A%2Fd%253A%2FJIIT%2520College%2FPython%2520%2526%2520ML%2FSeaborn%2FSeaborn.ipynb%23X42sZmlsZQ%253D%253D%22%2C%22path%22%3A%22%2Fd%3A%2FJIIT%20College%2FPython%20%26%20ML%2FSeaborn%2FSeaborn.ipynb%22%2C%22scheme%22%3A%22vscode-notebook-cell%22%2C%22fragment%22%3A%22X42sZmlsZQ%3D%3D%22%7D%2C%22pos%22%3A%7B%22line%22%3A2%2C%22character%22%3A36%7D%7D%5D%5D \"Go to definition\") variable.\n",
        "- `sizes`: Sizes to use for the different levels of the `size` variable.\n",
        "- `size_order`: Order to plot the levels of the `size` variable.\n",
        "- `size_norm`: Normalization in data units for scaling plot objects when the `size` variable is numeric.\n",
        "- `markers`: Markers for the different levels of the [`style`](command:_github.copilot.openSymbolFromReferences?%5B%22style%22%2C%5B%7B%22uri%22%3A%7B%22%24mid%22%3A1%2C%22fsPath%22%3A%22d%3A%5C%5CJIIT%20College%5C%5CPython%20%26%20ML%5C%5CSeaborn%5C%5CSeaborn.ipynb%22%2C%22_sep%22%3A1%2C%22external%22%3A%22vscode-notebook-cell%3A%2Fd%253A%2FJIIT%2520College%2FPython%2520%2526%2520ML%2FSeaborn%2FSeaborn.ipynb%23X42sZmlsZQ%253D%253D%22%2C%22path%22%3A%22%2Fd%3A%2FJIIT%20College%2FPython%20%26%20ML%2FSeaborn%2FSeaborn.ipynb%22%2C%22scheme%22%3A%22vscode-notebook-cell%22%2C%22fragment%22%3A%22X42sZmlsZQ%3D%3D%22%7D%2C%22pos%22%3A%7B%22line%22%3A3%2C%22character%22%3A16%7D%7D%5D%5D \"Go to definition\") variable.\n",
        "- `style_order`: Order to plot the levels of the [`style`](command:_github.copilot.openSymbolFromReferences?%5B%22style%22%2C%5B%7B%22uri%22%3A%7B%22%24mid%22%3A1%2C%22fsPath%22%3A%22d%3A%5C%5CJIIT%20College%5C%5CPython%20%26%20ML%5C%5CSeaborn%5C%5CSeaborn.ipynb%22%2C%22_sep%22%3A1%2C%22external%22%3A%22vscode-notebook-cell%3A%2Fd%253A%2FJIIT%2520College%2FPython%2520%2526%2520ML%2FSeaborn%2FSeaborn.ipynb%23X42sZmlsZQ%253D%253D%22%2C%22path%22%3A%22%2Fd%3A%2FJIIT%20College%2FPython%20%26%20ML%2FSeaborn%2FSeaborn.ipynb%22%2C%22scheme%22%3A%22vscode-notebook-cell%22%2C%22fragment%22%3A%22X42sZmlsZQ%3D%3D%22%7D%2C%22pos%22%3A%7B%22line%22%3A3%2C%22character%22%3A16%7D%7D%5D%5D \"Go to definition\") variable.\n",
        "- `x_bins`: Discretize the x-axis into bins and plot a step function.\n",
        "- `y_bins`: Discretize the y-axis into bins and plot a step function.\n",
        "- `units`: Grouping variable identifying sampling units.\n",
        "- `estimator`: Method for aggregating across multiple observations of the y variable at the same x level.\n",
        "- `ci`: Size of the confidence interval to draw when aggregating with an estimator.\n",
        "- `n_boot`: Number of bootstrap iterations to use when computing confidence intervals.\n",
        "- `sort`: If True, the data will be sorted by the x and y variables.\n",
        "- `orient`: Orientation of the plot (vertical or horizontal).\n",
        "- `ax`: Matplotlib Axes object to draw the plot onto.\n",
        "- `kwargs`: Additional keyword arguments to pass to the underlying plotting function."
      ]
    },
    {
      "cell_type": "code",
      "execution_count": null,
      "metadata": {
        "id": "i7B7MQlQq7X7"
      },
      "outputs": [],
      "source": [
        "plt.figure(figsize = (12,6))\n",
        "sns.scatterplot(x = 'age' , y = 'fare',\n",
        "                data = titanic_df , hue = 'alive',\n",
        "                style = 'class')\n",
        "sns.lineplot(x = 'age', y = 'fare' , data = titanic_df, color = 'green')\n",
        "plt.title('Titanic Data Analysis')"
      ]
    },
    {
      "cell_type": "code",
      "execution_count": null,
      "metadata": {
        "id": "PAiRzgAcNnVp"
      },
      "outputs": [],
      "source": [
        "sns.countplot(x = 'class' , data = titanic_df)"
      ]
    },
    {
      "cell_type": "markdown",
      "metadata": {
        "id": "_czItws3vl5L"
      },
      "source": [
        "## **Bar Plots**"
      ]
    },
    {
      "cell_type": "code",
      "execution_count": null,
      "metadata": {
        "id": "uWKXu1_Lwe31"
      },
      "outputs": [],
      "source": [
        "titanic_df.head(1)"
      ]
    },
    {
      "cell_type": "code",
      "execution_count": null,
      "metadata": {
        "id": "Yfkxckd9vpPM"
      },
      "outputs": [],
      "source": [
        "sns.barplot(x = 'class' , y = 'fare' , data = titanic_df )"
      ]
    },
    {
      "cell_type": "markdown",
      "metadata": {
        "id": "IKGQu5woy3pE"
      },
      "source": [
        "A bar plot represents an estimate of central tendency for a numeric variable with the height of each rectangle and provides some indication of the uncertainty around that estimate using error bars."
      ]
    },
    {
      "cell_type": "code",
      "execution_count": null,
      "metadata": {
        "id": "Ft-l2Z1bwqGd"
      },
      "outputs": [],
      "source": [
        "sns.barplot(x = 'class' , y = 'fare' , data = titanic_df ,\n",
        "            hue = 'sex')"
      ]
    },
    {
      "cell_type": "code",
      "execution_count": null,
      "metadata": {
        "id": "wj9LnZprw38k"
      },
      "outputs": [],
      "source": [
        "sns.barplot(x = 'class' , y = 'fare' , data = titanic_df ,\n",
        "            hue = 'sex',\n",
        "            palette = 'icefire')"
      ]
    },
    {
      "cell_type": "code",
      "execution_count": null,
      "metadata": {
        "id": "nCMetbd5xGSl"
      },
      "outputs": [],
      "source": [
        "#orient\n",
        "sns.barplot(y = 'class' , x = 'fare' , data = titanic_df ,\n",
        "            hue = 'sex',\n",
        "            palette = 'inferno',\n",
        "            orient = 'h')"
      ]
    },
    {
      "cell_type": "code",
      "execution_count": null,
      "metadata": {
        "id": "ElGQ_X3KyaLc"
      },
      "outputs": [],
      "source": [
        "#estimator\n",
        "sns.barplot(x = 'class' , y = 'fare' , data = titanic_df ,\n",
        "            hue = 'sex',\n",
        "            palette = 'inferno',\n",
        "            estimator = np.max)"
      ]
    },
    {
      "cell_type": "code",
      "execution_count": null,
      "metadata": {
        "id": "5v77hvm9yEOQ"
      },
      "outputs": [],
      "source": [
        "#confidence interval\n",
        "sns.barplot(x = 'class' , y = 'fare' , data = titanic_df ,\n",
        "            hue = 'sex',\n",
        "            palette = 'inferno',\n",
        "            ci=100,\n",
        "            errcolor = '#7289da',\n",
        "            errwidth = 3)"
      ]
    },
    {
      "cell_type": "code",
      "execution_count": null,
      "metadata": {
        "id": "Xlap2O35yOyn"
      },
      "outputs": [],
      "source": [
        "#saturation\n",
        "sns.barplot(x = 'class' , y = 'fare' , data = titanic_df ,\n",
        "            hue = 'sex',\n",
        "            palette = 'inferno',\n",
        "            saturation = 0.9)"
      ]
    },
    {
      "cell_type": "markdown",
      "metadata": {
        "id": "740qMmVmz1Wr"
      },
      "source": [
        "## **Heatmaps**"
      ]
    },
    {
      "cell_type": "code",
      "execution_count": null,
      "metadata": {
        "id": "XSgLH3Sid9qh"
      },
      "outputs": [],
      "source": [
        "flight_df = sns.load_dataset('flights')\n",
        "flight_df.head()"
      ]
    },
    {
      "cell_type": "code",
      "execution_count": null,
      "metadata": {
        "id": "4gMmSFd4R4og"
      },
      "outputs": [],
      "source": [
        "flight_df = flight_df.pivot(\"month\", \"year\", \"passengers\")\n",
        "flight_df.head()"
      ]
    },
    {
      "cell_type": "code",
      "execution_count": null,
      "metadata": {
        "id": "ijJz2uR5RfSW"
      },
      "outputs": [],
      "source": [
        "plt.figure(figsize=(12,6))\n",
        "ax = sns.heatmap(flight_df)\n",
        "ax"
      ]
    },
    {
      "cell_type": "code",
      "execution_count": null,
      "metadata": {
        "id": "7yRtEpM3RqGN"
      },
      "outputs": [],
      "source": [
        "plt.figure(figsize=(14,8))\n",
        "ax = sns.heatmap(flight_df, annot = True, fmt = 'd')\n",
        "ax"
      ]
    },
    {
      "cell_type": "code",
      "execution_count": null,
      "metadata": {
        "id": "H185WmDES16m"
      },
      "outputs": [],
      "source": [
        "plt.figure(figsize=(14,8))\n",
        "ax = sns.heatmap(flight_df, annot = True, fmt = 'd' , linecolor='k', linewidths='5')\n",
        "ax"
      ]
    },
    {
      "cell_type": "code",
      "execution_count": null,
      "metadata": {
        "id": "SvejAc_wTaGa"
      },
      "outputs": [],
      "source": [
        "plt.figure(figsize=(14,8))\n",
        "ax = sns.heatmap(flight_df, annot = True, fmt = 'd',\n",
        "                  linecolor='k', linewidths='5',\n",
        "                  cmap = 'Blues')\n",
        "ax"
      ]
    },
    {
      "cell_type": "code",
      "execution_count": null,
      "metadata": {
        "id": "2DqdGh05UGOX"
      },
      "outputs": [],
      "source": [
        "plt.figure(figsize=(14,8))\n",
        "sns.heatmap(flight_df, cbar=False)"
      ]
    },
    {
      "cell_type": "code",
      "execution_count": null,
      "metadata": {
        "id": "Z1FwlbX1WRw3"
      },
      "outputs": [],
      "source": [
        "grid_kws = {\"height_ratios\": (.3, .05), \"hspace\": .4}\n",
        "f, (ax, cbar_ax) = plt.subplots(2, gridspec_kw=grid_kws)\n",
        "ax = sns.heatmap(flight_df, cbar_kws={\"orientation\": \"horizontal\"} , ax=ax,\n",
        "                 cbar_ax=cbar_ax,)"
      ]
    },
    {
      "cell_type": "code",
      "execution_count": null,
      "metadata": {
        "id": "MBMiM3c1ZLD2"
      },
      "outputs": [],
      "source": [
        "titanic_df.head()"
      ]
    },
    {
      "cell_type": "code",
      "execution_count": null,
      "metadata": {
        "id": "X8dqtfMrZXUM"
      },
      "outputs": [],
      "source": [
        "titanic_df.corr()"
      ]
    },
    {
      "cell_type": "code",
      "execution_count": null,
      "metadata": {
        "id": "kZ8OJiElZrax"
      },
      "outputs": [],
      "source": [
        "titanic_df = sns.load_dataset('titanic')\n",
        "plt.figure(figsize=(12,8))\n",
        "sns.heatmap(titanic_df.corr())"
      ]
    },
    {
      "cell_type": "markdown",
      "metadata": {
        "id": "jI3v84kBZG4r"
      },
      "source": [
        "## **Pair Plot**"
      ]
    },
    {
      "cell_type": "code",
      "execution_count": null,
      "metadata": {
        "colab": {
          "base_uri": "https://localhost:8080/",
          "height": 198
        },
        "id": "jHTsUiuUXi1N",
        "outputId": "284382a7-6ad4-44dc-a127-d2f9b222461d"
      },
      "outputs": [],
      "source": [
        "penguins = sns.load_dataset('penguins')\n",
        "penguins.head()"
      ]
    },
    {
      "cell_type": "code",
      "execution_count": null,
      "metadata": {
        "colab": {
          "base_uri": "https://localhost:8080/",
          "height": 760
        },
        "id": "aF9UjU0pa_3x",
        "outputId": "eb7cc2fe-1d34-452f-a7b9-b66cdb476cbd"
      },
      "outputs": [],
      "source": [
        "plt.figure(figsize= (12,12))\n",
        "sns.pairplot(penguins)"
      ]
    },
    {
      "cell_type": "code",
      "execution_count": null,
      "metadata": {
        "colab": {
          "base_uri": "https://localhost:8080/",
          "height": 760
        },
        "id": "4OMhrUiTbpM-",
        "outputId": "8a0b2f5e-4063-4c46-b38f-adb0dc4dd3ae"
      },
      "outputs": [],
      "source": [
        "plt.figure(figsize= (12,12))\n",
        "sns.pairplot(penguins, hue = 'sex' , palette='Reds')"
      ]
    },
    {
      "cell_type": "code",
      "execution_count": null,
      "metadata": {
        "colab": {
          "base_uri": "https://localhost:8080/",
          "height": 760
        },
        "id": "45m5ycbfcWpw",
        "outputId": "30f70693-4d23-489e-ef99-ae35f38c22a3"
      },
      "outputs": [],
      "source": [
        "plt.figure(figsize= (12,12))\n",
        "sns.pairplot(penguins, hue = 'species' , palette = 'Blues')"
      ]
    },
    {
      "cell_type": "code",
      "execution_count": null,
      "metadata": {
        "colab": {
          "base_uri": "https://localhost:8080/",
          "height": 760
        },
        "id": "H3uq7CjRclPy",
        "outputId": "c31fa9fb-02b1-43d2-9bdc-347cf51f3606"
      },
      "outputs": [],
      "source": [
        "plt.figure(figsize= (12,12))\n",
        "sns.pairplot(penguins, kind = 'hist' , palette = 'YlOrGr')"
      ]
    },
    {
      "cell_type": "code",
      "execution_count": null,
      "metadata": {
        "colab": {
          "base_uri": "https://localhost:8080/",
          "height": 760
        },
        "id": "BORn4f6CMp4a",
        "outputId": "d2010871-07c5-41bd-c578-278d26113b20"
      },
      "outputs": [],
      "source": [
        "plt.figure(figsize = (12,12))\n",
        "sns.pairplot(penguins, hue=\"species\", diag_kind=\"hist\" , palette = 'rainbow')"
      ]
    },
    {
      "cell_type": "code",
      "execution_count": null,
      "metadata": {
        "colab": {
          "base_uri": "https://localhost:8080/",
          "height": 760
        },
        "id": "OXjC4B7rM2C1",
        "outputId": "d9c80248-2563-4482-8ec5-9779d9b03832"
      },
      "outputs": [],
      "source": [
        "plt.figure(figsize = (12,12))\n",
        "sns.pairplot(penguins, corner=True)"
      ]
    },
    {
      "cell_type": "code",
      "execution_count": null,
      "metadata": {
        "colab": {
          "base_uri": "https://localhost:8080/",
          "height": 760
        },
        "id": "c-ghQaQGNGnN",
        "outputId": "04f92065-20cb-4305-fee8-9bf4bb9a24bf"
      },
      "outputs": [],
      "source": [
        "plt.figure(figsize = (12,12))\n",
        "sns.pairplot(penguins, hue=\"species\", markers=[\"o\", \"s\", \"D\"] , palette = 'inferno')"
      ]
    }
  ],
  "metadata": {
    "colab": {
      "authorship_tag": "ABX9TyPj43ggGCcAzscJHaYFPWQ5",
      "collapsed_sections": [
        "N4gWkCYY3MvU",
        "k7qt72N55lt0"
      ],
      "include_colab_link": true,
      "name": "Seaborn.ipynb",
      "provenance": []
    },
    "kernelspec": {
      "display_name": "Python 3",
      "name": "python3"
    },
    "language_info": {
      "name": "python",
      "version": "3.12.1"
    }
  },
  "nbformat": 4,
  "nbformat_minor": 0
}
