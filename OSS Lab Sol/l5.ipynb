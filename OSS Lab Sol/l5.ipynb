{
 "cells": [
  {
   "cell_type": "code",
   "execution_count": 1,
   "metadata": {},
   "outputs": [],
   "source": [
    "import numpy as np\n",
    "import scipy"
   ]
  },
  {
   "cell_type": "code",
   "execution_count": 2,
   "metadata": {},
   "outputs": [
    {
     "name": "stdout",
     "output_type": "stream",
     "text": [
      "[[1. 1. 1. 1.]\n",
      " [1. 1. 1. 1.]\n",
      " [1. 1. 1. 1.]\n",
      " [1. 1. 1. 1.]]\n"
     ]
    }
   ],
   "source": [
    "#Q1\n",
    "from scipy import io\n",
    "array_ones = np.ones((4, 4))\n",
    "np.savetxt('test.txt', array_ones)\n",
    "loaded_array = np.loadtxt('test.txt')\n",
    "print(loaded_array)\n"
   ]
  },
  {
   "cell_type": "code",
   "execution_count": 3,
   "metadata": {},
   "outputs": [
    {
     "name": "stdout",
     "output_type": "stream",
     "text": [
      "[3.         4.         9.62260299]\n"
     ]
    }
   ],
   "source": [
    "#Q2\n",
    "from scipy import special\n",
    "\n",
    "cubic_roots = special.cbrt([27, 64, 891])\n",
    "print(cubic_roots)"
   ]
  },
  {
   "cell_type": "code",
   "execution_count": 4,
   "metadata": {},
   "outputs": [
    {
     "name": "stdout",
     "output_type": "stream",
     "text": [
      "Determinant: -7.0\n",
      "Inverse: \n",
      "[[-0.28571429  0.71428571]\n",
      " [ 0.42857143 -0.57142857]]\n"
     ]
    }
   ],
   "source": [
    "#Q3\n",
    "from scipy import linalg\n",
    "matrix = np.array([[4, 5], [3, 2]])\n",
    "determinant = linalg.det(matrix)\n",
    "inverse = linalg.inv(matrix)\n",
    "print(f\"Determinant: {determinant}\")\n",
    "print(f\"Inverse: \\n{inverse}\")"
   ]
  },
  {
   "cell_type": "code",
   "execution_count": 5,
   "metadata": {},
   "outputs": [
    {
     "name": "stdout",
     "output_type": "stream",
     "text": [
      "Eigenvalues: [ 9.+0.j -1.+0.j]\n",
      "Eigenvectors: \n",
      "[[ 0.70710678 -0.5547002 ]\n",
      " [ 0.70710678  0.83205029]]\n"
     ]
    }
   ],
   "source": [
    "#Q4\n",
    "matrix = np.array([[5, 4], [6, 3]])\n",
    "eigenvalues, eigenvectors = linalg.eig(matrix)\n",
    "print(f\"Eigenvalues: {eigenvalues}\")\n",
    "print(f\"Eigenvectors: \\n{eigenvectors}\")"
   ]
  },
  {
   "cell_type": "code",
   "execution_count": 6,
   "metadata": {},
   "outputs": [
    {
     "name": "stdout",
     "output_type": "stream",
     "text": [
      "Matrix A (in dense form):\n",
      " [[1 0 0]\n",
      " [0 2 0]\n",
      " [0 0 3]]\n",
      "Matrix B (in dense form):\n",
      " [[0 0 4]\n",
      " [0 5 0]\n",
      " [6 0 0]]\n",
      "Matrix A + Matrix B (dense form):\n",
      " [[1 0 4]\n",
      " [0 7 0]\n",
      " [6 0 3]]\n",
      "Matrix A * Matrix B (dense form):\n",
      " [[ 0  0  4]\n",
      " [ 0 10  0]\n",
      " [18  0  0]]\n"
     ]
    }
   ],
   "source": [
    "#q5\n",
    "from scipy import sparse\n",
    "A = sparse.csr_matrix([[1, 0, 0], [0, 2, 0], [0, 0, 3]])\n",
    "B = sparse.csr_matrix([[0, 0, 4], [0, 5, 0], [6, 0, 0]])\n",
    "print(\"Matrix A (in dense form):\\n\", A.toarray())\n",
    "print(\"Matrix B (in dense form):\\n\", B.toarray())\n",
    "C = A + B\n",
    "print(\"Matrix A + Matrix B (dense form):\\n\", C.toarray())\n",
    "D = A.dot(B)\n",
    "print(\"Matrix A * Matrix B (dense form):\\n\", D.toarray())"
   ]
  },
  {
   "cell_type": "code",
   "execution_count": null,
   "metadata": {},
   "outputs": [],
   "source": []
  }
 ],
 "metadata": {
  "kernelspec": {
   "display_name": "Python 3",
   "language": "python",
   "name": "python3"
  },
  "language_info": {
   "codemirror_mode": {
    "name": "ipython",
    "version": 3
   },
   "file_extension": ".py",
   "mimetype": "text/x-python",
   "name": "python",
   "nbconvert_exporter": "python",
   "pygments_lexer": "ipython3",
   "version": "3.10.0"
  }
 },
 "nbformat": 4,
 "nbformat_minor": 2
}
